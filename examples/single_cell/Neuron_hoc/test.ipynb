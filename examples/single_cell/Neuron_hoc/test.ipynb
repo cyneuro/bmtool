{
 "cells": [
  {
   "cell_type": "code",
   "execution_count": 1,
   "metadata": {},
   "outputs": [
    {
     "name": "stderr",
     "output_type": "stream",
     "text": [
      "Warning: no DISPLAY environment variable.\n",
      "--No graphics will be displayed.\n"
     ]
    }
   ],
   "source": [
    "from bmtool.singlecell import Profiler, Passive, CurrentClamp, FI, ZAP, run_and_plot\n",
    "from neuron import h"
   ]
  },
  {
   "cell_type": "code",
   "execution_count": 2,
   "metadata": {},
   "outputs": [],
   "source": [
    "template_dir = '.' #templates are in templates.hoc in this working dir\n",
    "mechanism_dir = 'modfiles'\n",
    "\n",
    "profiler = Profiler(template_dir=template_dir, mechanism_dir=mechanism_dir, dt = 0.05)\n"
   ]
  },
  {
   "cell_type": "code",
   "execution_count": 6,
   "metadata": {},
   "outputs": [
    {
     "name": "stdout",
     "output_type": "stream",
     "text": [
      "CP_Cell[3].soma[0]\n",
      "5.404892936362239e-05\n",
      "28.214910507202145\n",
      "-104.0\n",
      "CP_Cell[3].axon[0]\n",
      "0.00025347188561059\n",
      "14.096628189086916\n",
      "-104.0\n",
      "CP_Cell[3].dend[0]\n",
      "7.620207783345154e-05\n",
      "2.2799248695373535\n",
      "-104.0\n",
      "CP_Cell[3].apic[0]\n",
      "9.30129299683914e-05\n",
      "1.5831890106201174\n",
      "-104.0\n"
     ]
    }
   ],
   "source": [
    "cell = h.CP_Cell()\n",
    "\n",
    "all_sections = [sec for sec in h.allsec()]\n",
    "\n",
    "for sec in all_sections:\n",
    "    print(sec.name())\n",
    "    print(sec.g_pas)\n",
    "    print(sec.diam)\n",
    "    print(sec.ek)"
   ]
  },
  {
   "cell_type": "code",
   "execution_count": null,
   "metadata": {},
   "outputs": [],
   "source": []
  }
 ],
 "metadata": {
  "kernelspec": {
   "display_name": "bmtk",
   "language": "python",
   "name": "python3"
  },
  "language_info": {
   "codemirror_mode": {
    "name": "ipython",
    "version": 3
   },
   "file_extension": ".py",
   "mimetype": "text/x-python",
   "name": "python",
   "nbconvert_exporter": "python",
   "pygments_lexer": "ipython3",
   "version": "3.8.18"
  }
 },
 "nbformat": 4,
 "nbformat_minor": 2
}
