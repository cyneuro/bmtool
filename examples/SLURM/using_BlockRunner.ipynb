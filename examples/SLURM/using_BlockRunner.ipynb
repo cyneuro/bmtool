{
 "cells": [
  {
   "cell_type": "markdown",
   "metadata": {},
   "source": [
    "## This is a notebook to show how to use the BMTOOL.SLURM module\n",
    "#### By Gregory Glickert\n",
    "### First we will import the packages we need"
   ]
  },
  {
   "cell_type": "code",
   "execution_count": 2,
   "metadata": {},
   "outputs": [],
   "source": [
    "from bmtool.SLURM import SimulationBlock, BlockRunner\n",
    "from pathlib import Path\n",
    "import shutil"
   ]
  },
  {
   "cell_type": "markdown",
   "metadata": {},
   "source": [
    "### Next we will set up the pathing the runner will use"
   ]
  },
  {
   "cell_type": "code",
   "execution_count": 4,
   "metadata": {},
   "outputs": [
    {
     "data": {
      "text/plain": [
       "PosixPath('/home/gjgpb9/cortex_modeling/bmtool/examples/Run-Storage/example')"
      ]
     },
     "metadata": {},
     "output_type": "display_data"
    }
   ],
   "source": [
    "output_name = \"example_output_name\" # can be any string\n",
    "basePath = Path.cwd()  # Equivalent to os.getcwd() gets our current working directory\n",
    "\n",
    "# Path to 'Run-Storage' directory this is just setting up where i want things stored so this would go ../Run-Storage/example_output_name dir\n",
    "run_storage_dir = basePath.parent / 'Run-Storage'  \n",
    "target_dir = run_storage_dir / output_name  # Path to 'Run-Storage/CurrentResults'\n",
    "display(target_dir)"
   ]
  },
  {
   "cell_type": "markdown",
   "metadata": {},
   "source": [
    "### You can also manually define the target path like this"
   ]
  },
  {
   "cell_type": "code",
   "execution_count": 5,
   "metadata": {},
   "outputs": [
    {
     "data": {
      "text/plain": [
       "PosixPath('gjgpb9/bmtool/examples/Run-Storage/example')"
      ]
     },
     "metadata": {},
     "output_type": "display_data"
    }
   ],
   "source": [
    "from pathlib import PosixPath\n",
    "manual_path = \"gjgpb9/bmtool/examples/Run-Storage/example\"\n",
    "\n",
    "# Create a PosixPath object\n",
    "target_dir = PosixPath(manual_path)\n",
    "display(target_dir)"
   ]
  },
  {
   "cell_type": "markdown",
   "metadata": {},
   "source": [
    "### It is then good practice to check if that path already exists and if so delete it"
   ]
  },
  {
   "cell_type": "code",
   "execution_count": null,
   "metadata": {},
   "outputs": [],
   "source": [
    "if target_dir.exists() and target_dir.is_dir():\n",
    "    shutil.rmtree(target_dir)"
   ]
  },
  {
   "cell_type": "markdown",
   "metadata": {},
   "source": [
    "### Now we can define out simulation_cases. This is a dictionary with the key being the name of the case and the value is the command used to run that simulation. Below is an example of what that could look like."
   ]
  },
  {
   "cell_type": "code",
   "execution_count": null,
   "metadata": {},
   "outputs": [],
   "source": [
    "simulation_cases = {\n",
    "    \"baseline\": \"mpirun nrniv -mpi -python run_network.py simulation_config_baseline.json False\",\n",
    "    \"short\": \"mpirun nrniv -mpi -python run_network.py simulation_config_short.json False\",\n",
    "    \"long\": \"mpirun nrniv -mpi -python run_network.py simulation_config_long.json False\"\n",
    "}"
   ]
  },
  {
   "cell_type": "markdown",
   "metadata": {},
   "source": [
    "### Next we define our block parameters. These are parameters that will be used to allocate the SLURM resources. The below example will allocate resources for 4 hours on the partition named batch. The partition will be different depending on your system setup. The job will use 40 cores and 80G of memory. The output_base_dir will be the directory where the output of the simulation will be stored"
   ]
  },
  {
   "cell_type": "code",
   "execution_count": null,
   "metadata": {},
   "outputs": [],
   "source": [
    "block_params = {\n",
    "'time': '04:00:00',\n",
    "'partition': 'batch',\n",
    "'nodes': 1,\n",
    "'ntasks': 40,\n",
    "'mem': '80G',\n",
    "'output_base_dir': target_dir\n",
    "}"
   ]
  },
  {
   "cell_type": "markdown",
   "metadata": {},
   "source": [
    "### There may also be some additional commands you to run in the script before running your model. An example could be loading modules. You can add those like this. If your model doesn't need any additional commands you can just not include this."
   ]
  },
  {
   "cell_type": "code",
   "execution_count": null,
   "metadata": {},
   "outputs": [],
   "source": [
    "additional_commands = [\n",
    "    \"module purge\",\n",
    "    \"module load slurm\",\n",
    "    \"module load cpu/0.17.3b\",\n",
    "    \"module load gcc/10.2.0/npcyll4\",\n",
    "    \"module load openmpi/4.1.1\",\n",
    "    \"export HDF5_USE_FILE_LOCKING=FALSE\"\n",
    "]"
   ]
  },
  {
   "cell_type": "markdown",
   "metadata": {},
   "source": [
    "### Next we set up the paths for changing our json file. The module supports changing any key in the json file. The component_path should be the relative path to the BMTK components directory. The json_file_path should be the path FROM the components folder to the json file you wish to edit."
   ]
  },
  {
   "cell_type": "code",
   "execution_count": null,
   "metadata": {},
   "outputs": [],
   "source": [
    "#full_path = 'components/synaptic_models/synapses_STP/FSI2LTS.json'\n",
    "component_path = 'components'\n",
    "json_file_path = 'synaptic_models/synapses_STP/FSI2LTS.json'\n",
    "param_name = 'initW' # key in json\n",
    "param_values = [3.1,5] # values in json"
   ]
  },
  {
   "cell_type": "markdown",
   "metadata": {},
   "source": [
    "### Now we set up the blocks."
   ]
  },
  {
   "cell_type": "code",
   "execution_count": null,
   "metadata": {},
   "outputs": [],
   "source": [
    "num_blocks = len(param_values)\n",
    "# Create a list to hold the blocks\n",
    "blocks = []\n",
    "for i in range(1, num_blocks + 1):\n",
    "    block_name = f'block{i}'\n",
    "    block = SimulationBlock(block_name, **block_params, simulation_cases=simulation_cases,\n",
    "                            additional_commands=additional_commands,component_path=component_path)\n",
    "    blocks.append(block)"
   ]
  },
  {
   "cell_type": "markdown",
   "metadata": {},
   "source": [
    "### Then we can get the Runner ready to submit. You can also have the option to put a webhook link to send messages on progress of the jobs. Currently, only Microsoft Teams has been tested. If you want to only do one run of the network then you can just set param_values to be None instead."
   ]
  },
  {
   "cell_type": "code",
   "execution_count": null,
   "metadata": {},
   "outputs": [],
   "source": [
    "flow_url = None\n",
    "runner = BlockRunner(blocks=blocks,json_file_path=json_file_path,\n",
    "                     param_name=param_name,param_values=param_values,webhook=flow_url)"
   ]
  },
  {
   "cell_type": "markdown",
   "metadata": {},
   "source": [
    "### Then finally we submit the run"
   ]
  },
  {
   "cell_type": "code",
   "execution_count": null,
   "metadata": {},
   "outputs": [],
   "source": [
    "runner.submit_blocks_parallel()"
   ]
  },
  {
   "cell_type": "markdown",
   "metadata": {},
   "source": [
    "### Something to note is if you are using a webhook and run this last line the code run until the last job is finished. This can take some time, so it may be easier to run the file on SLURM so you don't have to keep your code running on your end. You could also just close the code after all the jobs are submitted and just not worry about knowing when the jobs are done."
   ]
  }
 ],
 "metadata": {
  "kernelspec": {
   "display_name": "bmtk",
   "language": "python",
   "name": "python3"
  },
  "language_info": {
   "codemirror_mode": {
    "name": "ipython",
    "version": 3
   },
   "file_extension": ".py",
   "mimetype": "text/x-python",
   "name": "python",
   "nbconvert_exporter": "python",
   "pygments_lexer": "ipython3",
   "version": "3.8.18"
  }
 },
 "nbformat": 4,
 "nbformat_minor": 2
}
